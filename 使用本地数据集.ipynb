{
 "cells": [
  {
   "cell_type": "markdown",
   "metadata": {},
   "source": [
    "# Using real dataset: descriptive analysis and graphics."
   ]
  },
  {
   "cell_type": "markdown",
   "metadata": {},
   "source": [
    "## 使用本地数据集"
   ]
  },
  {
   "cell_type": "code",
   "execution_count": 1,
   "metadata": {
    "collapsed": true
   },
   "outputs": [],
   "source": [
    "import pandas as pd\n",
    "import numpy as np\n",
    "import csv\n",
    "\n",
    "setwd = 'dataRH.xlsx'\n",
    "\n",
    "dataRH = pd.read_excel(io=setwd)"
   ]
  },
  {
   "cell_type": "markdown",
   "metadata": {},
   "source": [
    " have a look only the ﬁrst … rows of your dataset"
   ]
  },
  {
   "cell_type": "code",
   "execution_count": 2,
   "metadata": {},
   "outputs": [
    {
     "name": "stdout",
     "output_type": "stream",
     "text": [
      "   sex  workexp  age  jobtitle  wage  edu\n",
      "0    1        9   39         1  2370    1\n",
      "1    1       16   31         1  3125    2\n",
      "2    0        8   53         2  2620    1\n",
      "3    1        6   35         1  2270    1\n",
      "4    0        7   38         2  3315    3\n"
     ]
    }
   ],
   "source": [
    "print(dataRH.head())"
   ]
  },
  {
   "cell_type": "markdown",
   "metadata": {},
   "source": [
    " have a look only the last … rows of your dataset"
   ]
  },
  {
   "cell_type": "code",
   "execution_count": 3,
   "metadata": {},
   "outputs": [
    {
     "name": "stdout",
     "output_type": "stream",
     "text": [
      "     sex  workexp  age  jobtitle  wage  edu\n",
      "495    1       10   36         1  2540    1\n",
      "496    1        1   27         1  2345    1\n",
      "497    1        2   43         1  2510    1\n",
      "498    1        3   34         1  2255    1\n",
      "499    1        4   30         1  2535    1\n"
     ]
    }
   ],
   "source": [
    "print(dataRH.tail())"
   ]
  },
  {
   "cell_type": "markdown",
   "metadata": {},
   "source": [
    "The command:"
   ]
  },
  {
   "cell_type": "code",
   "execution_count": 4,
   "metadata": {},
   "outputs": [
    {
     "name": "stdout",
     "output_type": "stream",
     "text": [
      "              sex     workexp         age    jobtitle         wage         edu\n",
      "count  500.000000  500.000000  500.000000  500.000000   500.000000  500.000000\n",
      "mean     0.576000   10.018000   45.498000    1.740000  3174.880000    1.548000\n",
      "std      0.494685    5.494548   10.260631    0.793511   877.495688    0.696179\n",
      "min      0.000000    1.000000   27.000000    1.000000  1890.000000    1.000000\n",
      "25%      0.000000    6.000000   37.000000    1.000000  2555.000000    1.000000\n",
      "50%      1.000000   10.000000   46.000000    2.000000  2950.000000    1.000000\n",
      "75%      1.000000   13.000000   52.000000    2.000000  3550.000000    2.000000\n",
      "max      1.000000   30.000000   70.000000    3.000000  7465.000000    3.000000\n"
     ]
    }
   ],
   "source": [
    "print(dataRH.describe())"
   ]
  },
  {
   "cell_type": "markdown",
   "metadata": {},
   "source": [
    "条件查询 分组 筛选"
   ]
  },
  {
   "cell_type": "code",
   "execution_count": 22,
   "metadata": {},
   "outputs": [
    {
     "name": "stdout",
     "output_type": "stream",
     "text": [
      "     sex  workexp  age  jobtitle  wage  edu\n",
      "2      0        8   53         2  2620    1\n",
      "3      1        6   35         1  2270    1\n",
      "8      0        4   55         2  2925    1\n",
      "9      1       10   48         1  2375    2\n",
      "11     1        4   47         1  2025    1\n",
      "..   ...      ...  ...       ...   ...  ...\n",
      "495    1       10   36         1  2540    1\n",
      "496    1        1   27         1  2345    1\n",
      "497    1        2   43         1  2510    1\n",
      "498    1        3   34         1  2255    1\n",
      "499    1        4   30         1  2535    1\n",
      "\n",
      "[260 rows x 6 columns]\n",
      "     sex  workexp  age  jobtitle  wage  edu\n",
      "1      1       16   31         1  3125    2\n",
      "2      0        8   53         2  2620    1\n",
      "3      1        6   35         1  2270    1\n",
      "4      0        7   38         2  3315    3\n",
      "5      0        8   59         3  3375    3\n",
      "..   ...      ...  ...       ...   ...  ...\n",
      "495    1       10   36         1  2540    1\n",
      "496    1        1   27         1  2345    1\n",
      "497    1        2   43         1  2510    1\n",
      "498    1        3   34         1  2255    1\n",
      "499    1        4   30         1  2535    1\n",
      "\n",
      "[499 rows x 6 columns]\n",
      "     sex  workexp  age  jobtitle  wage  edu\n",
      "98     1       17   53         3  6060    2\n",
      "343    0       28   67         3  6675    2\n",
      "431    0       16   65         3  6145    1\n",
      "447    0       29   68         3  6460    2\n",
      "454    0       23   41         2  7465    2\n"
     ]
    }
   ],
   "source": [
    "group1 = dataRH[(dataRH[\"wage\"]<3000)]\n",
    "print(group1)\n",
    "\n",
    "group2 = dataRH[(dataRH[\"wage\"]>3000)|(dataRH[\"wage\"]<6000)]\n",
    "print(group2)\n",
    "\n",
    "group3 = dataRH[(dataRH[\"wage\"]>6000)]\n",
    "print(group3)"
   ]
  },
  {
   "cell_type": "code",
   "execution_count": null,
   "metadata": {
    "collapsed": true
   },
   "outputs": [],
   "source": []
  }
 ],
 "metadata": {
  "kernelspec": {
   "display_name": "Python 3",
   "language": "python",
   "name": "python3"
  },
  "language_info": {
   "codemirror_mode": {
    "name": "ipython",
    "version": 3
   },
   "file_extension": ".py",
   "mimetype": "text/x-python",
   "name": "python",
   "nbconvert_exporter": "python",
   "pygments_lexer": "ipython3",
   "version": "3.6.7"
  }
 },
 "nbformat": 4,
 "nbformat_minor": 2
}
